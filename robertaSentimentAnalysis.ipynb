{
 "cells": [
  {
   "cell_type": "code",
   "execution_count": 2,
   "metadata": {},
   "outputs": [],
   "source": [
    "import pandas as pd\n",
    "import numpy as np\n",
    "\n",
    "from transformers import AutoTokenizer\n",
    "from transformers import AutoModelForSequenceClassification \n",
    "\n",
    "from tqdm import tqdm\n",
    "import matplotlib.pyplot as plt\n",
    "import seaborn as sns\n",
    "from scipy.special import softmax\n",
    "\n",
    "import torch\n",
    "import re\n"
   ]
  },
  {
   "cell_type": "code",
   "execution_count": 3,
   "metadata": {},
   "outputs": [],
   "source": [
    "dataFrame = pd.read_csv(\"data/clean.csv\")"
   ]
  },
  {
   "cell_type": "code",
   "execution_count": 4,
   "metadata": {},
   "outputs": [
    {
     "data": {
      "text/plain": [
       "rating\n",
       "5    12540\n",
       "4     4908\n",
       "3     2823\n",
       "2     1549\n",
       "1      821\n",
       "Name: count, dtype: int64"
      ]
     },
     "execution_count": 4,
     "metadata": {},
     "output_type": "execute_result"
    }
   ],
   "source": [
    "dataFrame[\"rating\"].value_counts()"
   ]
  },
  {
   "cell_type": "code",
   "execution_count": null,
   "metadata": {},
   "outputs": [],
   "source": [
    "MODEL = f\"cardiffnlp/twitter-roberta-base-sentiment-latest\"\n",
    "tokenizer = AutoTokenizer.from_pretrained(MODEL)\n",
    "model = AutoModelForSequenceClassification.from_pretrained(MODEL)\n"
   ]
  },
  {
   "cell_type": "code",
   "execution_count": 5,
   "metadata": {},
   "outputs": [],
   "source": [
    "device = torch.device(\"cuda\" if torch.cuda.is_available() else \"cpu\")\n",
    "model = model.to(device)"
   ]
  },
  {
   "cell_type": "markdown",
   "metadata": {},
   "source": [
    "sentimentScore\n"
   ]
  },
  {
   "cell_type": "code",
   "execution_count": 6,
   "metadata": {},
   "outputs": [],
   "source": [
    "labelRating1 = {\n",
    "    \"neg\":[1,2,3],\n",
    "    \"neu\":[4,2,3],\n",
    "    \"pos\":[3,5,4]\n",
    "}\n",
    "\n"
   ]
  },
  {
   "cell_type": "code",
   "execution_count": 7,
   "metadata": {},
   "outputs": [],
   "source": [
    "labelRating2 = {\n",
    "    \"neg\":[1,2],\n",
    "    \"neu\":[4,2,3],\n",
    "    \"pos\":[5,4]\n",
    "}"
   ]
  },
  {
   "cell_type": "code",
   "execution_count": 8,
   "metadata": {},
   "outputs": [
    {
     "name": "stderr",
     "output_type": "stream",
     "text": [
      "  0%|          | 0/22641 [00:00<?, ?it/s]c:\\Users\\emrul\\AppData\\Local\\Programs\\Python\\Python310\\lib\\site-packages\\transformers\\models\\roberta\\modeling_roberta.py:370: UserWarning: 1Torch was not compiled with flash attention. (Triggered internally at C:\\actions-runner\\_work\\pytorch\\pytorch\\builder\\windows\\pytorch\\aten\\src\\ATen\\native\\transformers\\cuda\\sdp_utils.cpp:555.)\n",
      "  attn_output = torch.nn.functional.scaled_dot_product_attention(\n",
      "100%|██████████| 22641/22641 [03:49<00:00, 98.51it/s] \n"
     ]
    }
   ],
   "source": [
    "sentimentRes=[]\n",
    "outlires1 = []\n",
    "outlires2 = []\n",
    "for i,row in tqdm(dataFrame.iterrows(),total=len(dataFrame)):\n",
    "    review = row[\"review\"]\n",
    "    rating = row[\"rating\"]\n",
    "    tokenReview = tokenizer(review,return_tensors=\"pt\").input_ids.to(device)\n",
    "    output = model(tokenReview)\n",
    "    scores = output[0][0].cpu().detach().numpy()\n",
    "    scores = softmax(scores)\n",
    "    scoreDict = {\n",
    "                \"neg\":scores[0], \n",
    "                \"neu\":scores[1],\n",
    "                \"pos\":scores[2]\n",
    "                }\n",
    "    max_key = max(scoreDict, key=scoreDict.get)\n",
    "    if rating not in labelRating1[max_key]:\n",
    "        outlires1.append({\n",
    "            \"index\":i,\n",
    "            \"review\":review,\n",
    "            \"rating\":rating,\n",
    "            \"result\":max_key\n",
    "        })\n",
    "    \n",
    "    if rating not in labelRating2[max_key]:\n",
    "        outlires2.append({\n",
    "            \"index\":i,\n",
    "            \"review\":review,\n",
    "            \"rating\":rating,\n",
    "            \"result\":max_key\n",
    "        })\n",
    "\n",
    "    sentimentRes.append(\n",
    "        {\n",
    "        \"id\":i,\n",
    "        \"neg\":scores[0],\n",
    "        \"neu\":scores[1],\n",
    "        \"pos\":scores[2],\n",
    "        \"result\":max_key\n",
    "        }\n",
    "    )\n"
   ]
  },
  {
   "cell_type": "code",
   "execution_count": 9,
   "metadata": {},
   "outputs": [
    {
     "data": {
      "text/html": [
       "<div>\n",
       "<style scoped>\n",
       "    .dataframe tbody tr th:only-of-type {\n",
       "        vertical-align: middle;\n",
       "    }\n",
       "\n",
       "    .dataframe tbody tr th {\n",
       "        vertical-align: top;\n",
       "    }\n",
       "\n",
       "    .dataframe thead th {\n",
       "        text-align: right;\n",
       "    }\n",
       "</style>\n",
       "<table border=\"1\" class=\"dataframe\">\n",
       "  <thead>\n",
       "    <tr style=\"text-align: right;\">\n",
       "      <th></th>\n",
       "      <th>neg</th>\n",
       "      <th>neu</th>\n",
       "      <th>pos</th>\n",
       "      <th>result</th>\n",
       "    </tr>\n",
       "  </thead>\n",
       "  <tbody>\n",
       "    <tr>\n",
       "      <th>0</th>\n",
       "      <td>0.002245</td>\n",
       "      <td>0.010576</td>\n",
       "      <td>0.987180</td>\n",
       "      <td>pos</td>\n",
       "    </tr>\n",
       "    <tr>\n",
       "      <th>1</th>\n",
       "      <td>0.001609</td>\n",
       "      <td>0.007436</td>\n",
       "      <td>0.990955</td>\n",
       "      <td>pos</td>\n",
       "    </tr>\n",
       "    <tr>\n",
       "      <th>2</th>\n",
       "      <td>0.366803</td>\n",
       "      <td>0.380140</td>\n",
       "      <td>0.253057</td>\n",
       "      <td>neu</td>\n",
       "    </tr>\n",
       "    <tr>\n",
       "      <th>3</th>\n",
       "      <td>0.002247</td>\n",
       "      <td>0.004622</td>\n",
       "      <td>0.993131</td>\n",
       "      <td>pos</td>\n",
       "    </tr>\n",
       "    <tr>\n",
       "      <th>4</th>\n",
       "      <td>0.001239</td>\n",
       "      <td>0.006733</td>\n",
       "      <td>0.992028</td>\n",
       "      <td>pos</td>\n",
       "    </tr>\n",
       "    <tr>\n",
       "      <th>...</th>\n",
       "      <td>...</td>\n",
       "      <td>...</td>\n",
       "      <td>...</td>\n",
       "      <td>...</td>\n",
       "    </tr>\n",
       "    <tr>\n",
       "      <th>22636</th>\n",
       "      <td>0.001105</td>\n",
       "      <td>0.006981</td>\n",
       "      <td>0.991914</td>\n",
       "      <td>pos</td>\n",
       "    </tr>\n",
       "    <tr>\n",
       "      <th>22637</th>\n",
       "      <td>0.129048</td>\n",
       "      <td>0.323072</td>\n",
       "      <td>0.547880</td>\n",
       "      <td>pos</td>\n",
       "    </tr>\n",
       "    <tr>\n",
       "      <th>22638</th>\n",
       "      <td>0.046035</td>\n",
       "      <td>0.150881</td>\n",
       "      <td>0.803084</td>\n",
       "      <td>pos</td>\n",
       "    </tr>\n",
       "    <tr>\n",
       "      <th>22639</th>\n",
       "      <td>0.390427</td>\n",
       "      <td>0.373043</td>\n",
       "      <td>0.236531</td>\n",
       "      <td>neg</td>\n",
       "    </tr>\n",
       "    <tr>\n",
       "      <th>22640</th>\n",
       "      <td>0.001096</td>\n",
       "      <td>0.011643</td>\n",
       "      <td>0.987261</td>\n",
       "      <td>pos</td>\n",
       "    </tr>\n",
       "  </tbody>\n",
       "</table>\n",
       "<p>22641 rows × 4 columns</p>\n",
       "</div>"
      ],
      "text/plain": [
       "            neg       neu       pos result\n",
       "0      0.002245  0.010576  0.987180    pos\n",
       "1      0.001609  0.007436  0.990955    pos\n",
       "2      0.366803  0.380140  0.253057    neu\n",
       "3      0.002247  0.004622  0.993131    pos\n",
       "4      0.001239  0.006733  0.992028    pos\n",
       "...         ...       ...       ...    ...\n",
       "22636  0.001105  0.006981  0.991914    pos\n",
       "22637  0.129048  0.323072  0.547880    pos\n",
       "22638  0.046035  0.150881  0.803084    pos\n",
       "22639  0.390427  0.373043  0.236531    neg\n",
       "22640  0.001096  0.011643  0.987261    pos\n",
       "\n",
       "[22641 rows x 4 columns]"
      ]
     },
     "execution_count": 9,
     "metadata": {},
     "output_type": "execute_result"
    }
   ],
   "source": [
    "sentimentDataframe = pd.DataFrame(sentimentRes).drop(columns=\"id\")\n",
    "sentimentDataframe"
   ]
  },
  {
   "cell_type": "code",
   "execution_count": 10,
   "metadata": {},
   "outputs": [
    {
     "data": {
      "text/html": [
       "<div>\n",
       "<style scoped>\n",
       "    .dataframe tbody tr th:only-of-type {\n",
       "        vertical-align: middle;\n",
       "    }\n",
       "\n",
       "    .dataframe tbody tr th {\n",
       "        vertical-align: top;\n",
       "    }\n",
       "\n",
       "    .dataframe thead th {\n",
       "        text-align: right;\n",
       "    }\n",
       "</style>\n",
       "<table border=\"1\" class=\"dataframe\">\n",
       "  <thead>\n",
       "    <tr style=\"text-align: right;\">\n",
       "      <th></th>\n",
       "      <th>review</th>\n",
       "      <th>rating</th>\n",
       "      <th>neg</th>\n",
       "      <th>neu</th>\n",
       "      <th>pos</th>\n",
       "      <th>result</th>\n",
       "    </tr>\n",
       "  </thead>\n",
       "  <tbody>\n",
       "    <tr>\n",
       "      <th>0</th>\n",
       "      <td>Absolutely wonderful - silky and sexy and comf...</td>\n",
       "      <td>4</td>\n",
       "      <td>0.002245</td>\n",
       "      <td>0.010576</td>\n",
       "      <td>0.987180</td>\n",
       "      <td>pos</td>\n",
       "    </tr>\n",
       "    <tr>\n",
       "      <th>1</th>\n",
       "      <td>Love this dress!  it's sooo pretty.  i happene...</td>\n",
       "      <td>5</td>\n",
       "      <td>0.001609</td>\n",
       "      <td>0.007436</td>\n",
       "      <td>0.990955</td>\n",
       "      <td>pos</td>\n",
       "    </tr>\n",
       "    <tr>\n",
       "      <th>2</th>\n",
       "      <td>I had such high hopes for this dress and reall...</td>\n",
       "      <td>3</td>\n",
       "      <td>0.366803</td>\n",
       "      <td>0.380140</td>\n",
       "      <td>0.253057</td>\n",
       "      <td>neu</td>\n",
       "    </tr>\n",
       "    <tr>\n",
       "      <th>3</th>\n",
       "      <td>I love, love, love this jumpsuit. it's fun, fl...</td>\n",
       "      <td>5</td>\n",
       "      <td>0.002247</td>\n",
       "      <td>0.004622</td>\n",
       "      <td>0.993131</td>\n",
       "      <td>pos</td>\n",
       "    </tr>\n",
       "    <tr>\n",
       "      <th>4</th>\n",
       "      <td>This shirt is very flattering to all due to th...</td>\n",
       "      <td>5</td>\n",
       "      <td>0.001239</td>\n",
       "      <td>0.006733</td>\n",
       "      <td>0.992028</td>\n",
       "      <td>pos</td>\n",
       "    </tr>\n",
       "    <tr>\n",
       "      <th>...</th>\n",
       "      <td>...</td>\n",
       "      <td>...</td>\n",
       "      <td>...</td>\n",
       "      <td>...</td>\n",
       "      <td>...</td>\n",
       "      <td>...</td>\n",
       "    </tr>\n",
       "    <tr>\n",
       "      <th>22636</th>\n",
       "      <td>I was very happy to snag this dress at such a ...</td>\n",
       "      <td>5</td>\n",
       "      <td>0.001105</td>\n",
       "      <td>0.006981</td>\n",
       "      <td>0.991914</td>\n",
       "      <td>pos</td>\n",
       "    </tr>\n",
       "    <tr>\n",
       "      <th>22637</th>\n",
       "      <td>It reminds me of maternity clothes. soft, stre...</td>\n",
       "      <td>3</td>\n",
       "      <td>0.129048</td>\n",
       "      <td>0.323072</td>\n",
       "      <td>0.547880</td>\n",
       "      <td>pos</td>\n",
       "    </tr>\n",
       "    <tr>\n",
       "      <th>22638</th>\n",
       "      <td>This fit well, but the top was very see throug...</td>\n",
       "      <td>3</td>\n",
       "      <td>0.046035</td>\n",
       "      <td>0.150881</td>\n",
       "      <td>0.803084</td>\n",
       "      <td>pos</td>\n",
       "    </tr>\n",
       "    <tr>\n",
       "      <th>22639</th>\n",
       "      <td>I bought this dress for a wedding i have this ...</td>\n",
       "      <td>3</td>\n",
       "      <td>0.390427</td>\n",
       "      <td>0.373043</td>\n",
       "      <td>0.236531</td>\n",
       "      <td>neg</td>\n",
       "    </tr>\n",
       "    <tr>\n",
       "      <th>22640</th>\n",
       "      <td>This dress in a lovely platinum is feminine an...</td>\n",
       "      <td>5</td>\n",
       "      <td>0.001096</td>\n",
       "      <td>0.011643</td>\n",
       "      <td>0.987261</td>\n",
       "      <td>pos</td>\n",
       "    </tr>\n",
       "  </tbody>\n",
       "</table>\n",
       "<p>22641 rows × 6 columns</p>\n",
       "</div>"
      ],
      "text/plain": [
       "                                                  review  rating       neg  \\\n",
       "0      Absolutely wonderful - silky and sexy and comf...       4  0.002245   \n",
       "1      Love this dress!  it's sooo pretty.  i happene...       5  0.001609   \n",
       "2      I had such high hopes for this dress and reall...       3  0.366803   \n",
       "3      I love, love, love this jumpsuit. it's fun, fl...       5  0.002247   \n",
       "4      This shirt is very flattering to all due to th...       5  0.001239   \n",
       "...                                                  ...     ...       ...   \n",
       "22636  I was very happy to snag this dress at such a ...       5  0.001105   \n",
       "22637  It reminds me of maternity clothes. soft, stre...       3  0.129048   \n",
       "22638  This fit well, but the top was very see throug...       3  0.046035   \n",
       "22639  I bought this dress for a wedding i have this ...       3  0.390427   \n",
       "22640  This dress in a lovely platinum is feminine an...       5  0.001096   \n",
       "\n",
       "            neu       pos result  \n",
       "0      0.010576  0.987180    pos  \n",
       "1      0.007436  0.990955    pos  \n",
       "2      0.380140  0.253057    neu  \n",
       "3      0.004622  0.993131    pos  \n",
       "4      0.006733  0.992028    pos  \n",
       "...         ...       ...    ...  \n",
       "22636  0.006981  0.991914    pos  \n",
       "22637  0.323072  0.547880    pos  \n",
       "22638  0.150881  0.803084    pos  \n",
       "22639  0.373043  0.236531    neg  \n",
       "22640  0.011643  0.987261    pos  \n",
       "\n",
       "[22641 rows x 6 columns]"
      ]
     },
     "execution_count": 10,
     "metadata": {},
     "output_type": "execute_result"
    }
   ],
   "source": [
    "mergedDF = dataFrame.join(sentimentDataframe)\n",
    "mergedDF"
   ]
  },
  {
   "cell_type": "code",
   "execution_count": 11,
   "metadata": {},
   "outputs": [],
   "source": [
    "mergedDF.to_csv(\"data/roberta.csv\",index=False)"
   ]
  },
  {
   "cell_type": "code",
   "execution_count": 12,
   "metadata": {},
   "outputs": [
    {
     "name": "stdout",
     "output_type": "stream",
     "text": [
      "1349\n",
      "{'index': 1691, 'review': \"I ordered this in my usual size 0 and couldn't finish zipping up the top, but also couldn't fill in the boobs. i am 5'7, 116 lbs, 32a. it is very cute, but the top was pretty stiff and unless it draped on you correctly, could probably be bothersome. i was disappointed in the quality of the skirt- no lining, simple cotton/polyester. i will probably return, try the size up, but was disappointed compared to how excited i was for it. i did like that it had pockets, and would be a fun dress to wear f\", 'rating': 4, 'result': 'neg'}\n"
     ]
    }
   ],
   "source": [
    "print(len(outlires1))\n",
    "print(outlires1[86])\n",
    "outlireIndex1 = [item[\"index\"] for item in outlires1]"
   ]
  },
  {
   "cell_type": "code",
   "execution_count": 13,
   "metadata": {},
   "outputs": [
    {
     "name": "stdout",
     "output_type": "stream",
     "text": [
      "22641\n",
      "21292\n"
     ]
    }
   ],
   "source": [
    "print(len(mergedDF))\n",
    "filtered1=mergedDF.drop(index=outlireIndex1)\n",
    "print(len(filtered1))\n",
    "filtered1.to_csv(\"data/robertaOutlires1.csv\",index=False)"
   ]
  },
  {
   "cell_type": "code",
   "execution_count": 14,
   "metadata": {},
   "outputs": [
    {
     "name": "stdout",
     "output_type": "stream",
     "text": [
      "3758\n",
      "{'index': 569, 'review': \"My store had this and i was so intrigued with its nearly $400 price tag that i decided to play dress up. the colors in person match the colors online, so that was nice to see consistency. overall though, i feel like a dress of that price would need to make me feel like a million bucks, which it did not. most items that fit my slender frame are too short, and this was no exception. the xs fit but i wouldn't be doing much moving, walking or dancing in this dress, which brings me to the question of\", 'rating': 3, 'result': 'pos'}\n"
     ]
    }
   ],
   "source": [
    "print(len(outlires2))\n",
    "print(outlires2[86])\n",
    "outlireIndex2 = [item[\"index\"] for item in outlires2]"
   ]
  },
  {
   "cell_type": "code",
   "execution_count": 15,
   "metadata": {},
   "outputs": [
    {
     "name": "stdout",
     "output_type": "stream",
     "text": [
      "22641\n",
      "18883\n"
     ]
    }
   ],
   "source": [
    "print(len(mergedDF))\n",
    "filtered2=mergedDF.drop(index=outlireIndex2)\n",
    "print(len(filtered2))\n",
    "filtered2.to_csv(\"data/robertaOutlires2.csv\",index=False)"
   ]
  }
 ],
 "metadata": {
  "kernelspec": {
   "display_name": "Python 3",
   "language": "python",
   "name": "python3"
  },
  "language_info": {
   "codemirror_mode": {
    "name": "ipython",
    "version": 3
   },
   "file_extension": ".py",
   "mimetype": "text/x-python",
   "name": "python",
   "nbconvert_exporter": "python",
   "pygments_lexer": "ipython3",
   "version": "3.10.6"
  }
 },
 "nbformat": 4,
 "nbformat_minor": 2
}
